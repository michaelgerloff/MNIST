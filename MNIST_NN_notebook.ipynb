{
 "cells": [
  {
   "cell_type": "code",
   "execution_count": null,
   "metadata": {},
   "outputs": [],
   "source": [
    "from keras.datasets import mnist\n",
    "from matplotlib import pyplot\n",
    "import tensorflow as tf\n",
    "import numpy as np"
   ]
  },
  {
   "cell_type": "code",
   "execution_count": null,
   "metadata": {},
   "outputs": [],
   "source": [
    "#load data\n",
    "(train_x, train_y), (test_x, test_y) = mnist.load_data()"
   ]
  },
  {
   "cell_type": "code",
   "execution_count": null,
   "metadata": {},
   "outputs": [],
   "source": [
    "#split training data\n",
    "val_x = train_x[0:int(len(train_x)/10)]\n",
    "val_y = train_y[0:int(len(train_y)/10)]\n",
    "train_x = train_x[int((len(train_x)/10)):len(train_x)]\n",
    "train_y = train_y[int((len(train_y)/10)):len(train_y)]"
   ]
  },
  {
   "cell_type": "code",
   "execution_count": null,
   "metadata": {},
   "outputs": [],
   "source": [
    "print('train_x has the shape of:', str(train_x.shape))\n",
    "print('train_y has the shape of:', str(train_y.shape))\n",
    "print('val_x has the shape of:', str(val_x.shape))\n",
    "print('val_y has the shape of:', str(val_y.shape))\n",
    "print('test_x has the shape of:', str(test_x.shape))\n",
    "print('test_y has the shape of:', str(test_y.shape))"
   ]
  },
  {
   "cell_type": "code",
   "execution_count": null,
   "metadata": {},
   "outputs": [],
   "source": [
    "#\n",
    "for i in range(9):\n",
    "    pyplot.subplot(330+1+i)\n",
    "    pyplot.imshow(train_x[i], cmap=pyplot.get_cmap('gray'))"
   ]
  },
  {
   "cell_type": "code",
   "execution_count": null,
   "metadata": {},
   "outputs": [],
   "source": [
    "#normalize pixel values\n",
    "train_x_norm = train_x/255\n",
    "val_x_norm = val_x/255\n",
    "test_x_norm = test_x/255"
   ]
  },
  {
   "cell_type": "code",
   "execution_count": null,
   "metadata": {},
   "outputs": [],
   "source": [
    "#one hot encode y values\n",
    "classes = len(np.unique(train_y)) #calculate how many classes are needed\n",
    "train_y_oh = np.eye(classes)[train_y]\n",
    "val_y_oh = np.eye(classes)[val_y]\n",
    "test_y_oh = np.eye(classes)[test_y]"
   ]
  },
  {
   "cell_type": "code",
   "execution_count": null,
   "metadata": {},
   "outputs": [],
   "source": [
    "tf.keras.backend.clear_session()"
   ]
  },
  {
   "cell_type": "code",
   "execution_count": null,
   "metadata": {},
   "outputs": [],
   "source": [
    "model = tf.keras.Sequential([\n",
    "    tf.keras.layers.Flatten(),\n",
    "    tf.keras.layers.Dense(units=256, activation=tf.nn.relu),\n",
    "    tf.keras.layers.Dense(units=128, activation=tf.nn.relu),\n",
    "    tf.keras.layers.Dense(units=64, activation=tf.nn.relu),\n",
    "    tf.keras.layers.Dense(units=10, activation='linear')\n",
    "])"
   ]
  },
  {
   "cell_type": "code",
   "execution_count": null,
   "metadata": {},
   "outputs": [],
   "source": [
    "model.compile(optimizer=tf.keras.optimizers.Adam(learning_rate=0.001),\n",
    "              loss=tf.keras.losses.CategoricalCrossentropy(from_logits=True)\n",
    "              )"
   ]
  },
  {
   "cell_type": "code",
   "execution_count": null,
   "metadata": {},
   "outputs": [],
   "source": [
    "model.fit(train_x_norm, train_y_oh, epochs=100)"
   ]
  },
  {
   "cell_type": "code",
   "execution_count": null,
   "metadata": {},
   "outputs": [],
   "source": [
    "train_predict = model.predict(train_x_norm)\n",
    "val_predict = model.predict(val_x_norm)\n",
    "test_predict = model.predict(test_x_norm)"
   ]
  },
  {
   "cell_type": "code",
   "execution_count": null,
   "metadata": {},
   "outputs": [],
   "source": [
    "ls_train = []\n",
    "for i in range(len(train_predict)):\n",
    "    ls_train.append(train_predict[i].argmax() == train_y_oh[i].argmax())\n",
    "\n",
    "ls_val = []\n",
    "for i in range(len(val_predict)):\n",
    "    ls_val.append(val_predict[i].argmax() == val_y_oh[i].argmax())\n",
    "    \n",
    "ls_test = []\n",
    "for i in range(len(test_predict)):\n",
    "    ls_test.append(test_predict[i].argmax() == test_y_oh[i].argmax())"
   ]
  },
  {
   "cell_type": "code",
   "execution_count": null,
   "metadata": {},
   "outputs": [],
   "source": [
    "print('the training set accuracy is:', np.sum(ls_train)/len(ls_train) * 100, '%')\n",
    "print('the validation set accuracy is:', np.sum(ls_val)/len(ls_val) * 100, '%')\n",
    "print('the test set accuracy is:', np.sum(ls_test)/len(ls_test) * 100, '%')\n"
   ]
  }
 ],
 "metadata": {
  "kernelspec": {
   "display_name": "MNIST",
   "language": "python",
   "name": "python3"
  },
  "language_info": {
   "codemirror_mode": {
    "name": "ipython",
    "version": 3
   },
   "file_extension": ".py",
   "mimetype": "text/x-python",
   "name": "python",
   "nbconvert_exporter": "python",
   "pygments_lexer": "ipython3",
   "version": "3.11.4"
  },
  "orig_nbformat": 4
 },
 "nbformat": 4,
 "nbformat_minor": 2
}
